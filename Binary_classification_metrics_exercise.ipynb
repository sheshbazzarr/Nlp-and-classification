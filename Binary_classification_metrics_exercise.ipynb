{
  "cells": [
    {
      "cell_type": "markdown",
      "metadata": {
        "id": "Ee-v8I_P8rfp"
      },
      "source": [
        "<div align=\"center\" style=\" font-size: 80%; text-align: center; margin: 0 auto\">\n",
        "<img src=\"https://github.com/sheshbazzarr/Nlp-and-classification/blob/acf41d8a2ade91ec1d7ebb115d20569d60d476c4/sheshbazzar-python-notebook-banner.png?raw=true\"  style=\"display: block; margin-left: auto; margin-right: auto;\";/>\n",
        "</div>\n",
        "\n",
        "# Exercise: Binary classification metrics\n",
        "© ExploreAI Academy\n",
        "\n",
        "In this exercise, we train a logistic regression model and evaluate its performance by calculating overall accuracy from its confusion matrix."
      ]
    },
    {
      "cell_type": "markdown",
      "source": [],
      "metadata": {
        "id": "-kkbLF2E_piR"
      }
    },
    {
      "cell_type": "markdown",
      "metadata": {
        "id": "ITqrvAqq8xSC"
      },
      "source": [
        "## Learning objectives\n",
        "\n",
        "By the end of this train, you should be able to:\n",
        "* Train a logistic regression model.\n",
        "* Calculate the model's overall accuracy."
      ]
    },
    {
      "cell_type": "markdown",
      "metadata": {
        "id": "Fb0YMfx6_IP6"
      },
      "source": [
        "## Import libraries and dataset\n",
        "\n",
        "In an effort to conserve a particular endangered animal species, we want to be able to predict the suitability of various habitats. We have a dataset, `habitat_suitability`, that contains various environmental and ecological features used to determine whether or not a habitat is suitable for the species."
      ]
    },
    {
      "cell_type": "code",
      "execution_count": null,
      "metadata": {
        "id": "gfKxX7RQ_IP6"
      },
      "outputs": [],
      "source": [
        "import numpy as np\n",
        "import pandas as pd\n",
        "from sklearn.model_selection import train_test_split\n",
        "from sklearn.preprocessing import StandardScaler\n",
        "from sklearn.linear_model import LogisticRegression"
      ]
    },
    {
      "cell_type": "code",
      "source": [
        "habitat_df=pd.read_csv(\"https://raw.githubusercontent.com/sheshbazzarr/Nlp-and-classification/main/dataset/habitat_suitability.csv\")\n",
        "habitat_df.head(5)"
      ],
      "metadata": {
        "colab": {
          "base_uri": "https://localhost:8080/",
          "height": 261
        },
        "id": "_hrau72XCUbi",
        "outputId": "c233a5af-d8c3-41ea-fc4c-bfd84d6b2539"
      },
      "execution_count": null,
      "outputs": [
        {
          "output_type": "execute_result",
          "data": {
            "text/plain": [
              "   Average Temperature (°C)  Annual Rainfall (mm)  \\\n",
              "0                 20.009527           1270.407873   \n",
              "1                 16.228576           1419.881504   \n",
              "2                 25.472638            991.750374   \n",
              "3                 34.030446           1431.824231   \n",
              "4                 38.334526           1018.262946   \n",
              "\n",
              "   Vegetation Density (% coverage)  Predator Presence (0 or 1)  \\\n",
              "0                        90.142754                           1   \n",
              "1                        58.246594                           0   \n",
              "2                        57.898060                           1   \n",
              "3                        41.892067                           1   \n",
              "4                        56.814597                           1   \n",
              "\n",
              "   Human Disturbance Index  Altitude (meters)  \\\n",
              "0                 0.392750         355.433041   \n",
              "1                 0.356556          64.890245   \n",
              "2                 0.832856         301.426259   \n",
              "3                 0.044347         390.152269   \n",
              "4                 0.308421         450.584113   \n",
              "\n",
              "   Water Source Availability (0 or 1)  Habitat Suitability  \n",
              "0                                   1                    1  \n",
              "1                                   1                    1  \n",
              "2                                   1                    0  \n",
              "3                                   1                    0  \n",
              "4                                   1                    0  "
            ],
            "text/html": [
              "\n",
              "  <div id=\"df-132c292d-bb4d-465a-9023-9414c4d7f46c\" class=\"colab-df-container\">\n",
              "    <div>\n",
              "<style scoped>\n",
              "    .dataframe tbody tr th:only-of-type {\n",
              "        vertical-align: middle;\n",
              "    }\n",
              "\n",
              "    .dataframe tbody tr th {\n",
              "        vertical-align: top;\n",
              "    }\n",
              "\n",
              "    .dataframe thead th {\n",
              "        text-align: right;\n",
              "    }\n",
              "</style>\n",
              "<table border=\"1\" class=\"dataframe\">\n",
              "  <thead>\n",
              "    <tr style=\"text-align: right;\">\n",
              "      <th></th>\n",
              "      <th>Average Temperature (°C)</th>\n",
              "      <th>Annual Rainfall (mm)</th>\n",
              "      <th>Vegetation Density (% coverage)</th>\n",
              "      <th>Predator Presence (0 or 1)</th>\n",
              "      <th>Human Disturbance Index</th>\n",
              "      <th>Altitude (meters)</th>\n",
              "      <th>Water Source Availability (0 or 1)</th>\n",
              "      <th>Habitat Suitability</th>\n",
              "    </tr>\n",
              "  </thead>\n",
              "  <tbody>\n",
              "    <tr>\n",
              "      <th>0</th>\n",
              "      <td>20.009527</td>\n",
              "      <td>1270.407873</td>\n",
              "      <td>90.142754</td>\n",
              "      <td>1</td>\n",
              "      <td>0.392750</td>\n",
              "      <td>355.433041</td>\n",
              "      <td>1</td>\n",
              "      <td>1</td>\n",
              "    </tr>\n",
              "    <tr>\n",
              "      <th>1</th>\n",
              "      <td>16.228576</td>\n",
              "      <td>1419.881504</td>\n",
              "      <td>58.246594</td>\n",
              "      <td>0</td>\n",
              "      <td>0.356556</td>\n",
              "      <td>64.890245</td>\n",
              "      <td>1</td>\n",
              "      <td>1</td>\n",
              "    </tr>\n",
              "    <tr>\n",
              "      <th>2</th>\n",
              "      <td>25.472638</td>\n",
              "      <td>991.750374</td>\n",
              "      <td>57.898060</td>\n",
              "      <td>1</td>\n",
              "      <td>0.832856</td>\n",
              "      <td>301.426259</td>\n",
              "      <td>1</td>\n",
              "      <td>0</td>\n",
              "    </tr>\n",
              "    <tr>\n",
              "      <th>3</th>\n",
              "      <td>34.030446</td>\n",
              "      <td>1431.824231</td>\n",
              "      <td>41.892067</td>\n",
              "      <td>1</td>\n",
              "      <td>0.044347</td>\n",
              "      <td>390.152269</td>\n",
              "      <td>1</td>\n",
              "      <td>0</td>\n",
              "    </tr>\n",
              "    <tr>\n",
              "      <th>4</th>\n",
              "      <td>38.334526</td>\n",
              "      <td>1018.262946</td>\n",
              "      <td>56.814597</td>\n",
              "      <td>1</td>\n",
              "      <td>0.308421</td>\n",
              "      <td>450.584113</td>\n",
              "      <td>1</td>\n",
              "      <td>0</td>\n",
              "    </tr>\n",
              "  </tbody>\n",
              "</table>\n",
              "</div>\n",
              "    <div class=\"colab-df-buttons\">\n",
              "\n",
              "  <div class=\"colab-df-container\">\n",
              "    <button class=\"colab-df-convert\" onclick=\"convertToInteractive('df-132c292d-bb4d-465a-9023-9414c4d7f46c')\"\n",
              "            title=\"Convert this dataframe to an interactive table.\"\n",
              "            style=\"display:none;\">\n",
              "\n",
              "  <svg xmlns=\"http://www.w3.org/2000/svg\" height=\"24px\" viewBox=\"0 -960 960 960\">\n",
              "    <path d=\"M120-120v-720h720v720H120Zm60-500h600v-160H180v160Zm220 220h160v-160H400v160Zm0 220h160v-160H400v160ZM180-400h160v-160H180v160Zm440 0h160v-160H620v160ZM180-180h160v-160H180v160Zm440 0h160v-160H620v160Z\"/>\n",
              "  </svg>\n",
              "    </button>\n",
              "\n",
              "  <style>\n",
              "    .colab-df-container {\n",
              "      display:flex;\n",
              "      gap: 12px;\n",
              "    }\n",
              "\n",
              "    .colab-df-convert {\n",
              "      background-color: #E8F0FE;\n",
              "      border: none;\n",
              "      border-radius: 50%;\n",
              "      cursor: pointer;\n",
              "      display: none;\n",
              "      fill: #1967D2;\n",
              "      height: 32px;\n",
              "      padding: 0 0 0 0;\n",
              "      width: 32px;\n",
              "    }\n",
              "\n",
              "    .colab-df-convert:hover {\n",
              "      background-color: #E2EBFA;\n",
              "      box-shadow: 0px 1px 2px rgba(60, 64, 67, 0.3), 0px 1px 3px 1px rgba(60, 64, 67, 0.15);\n",
              "      fill: #174EA6;\n",
              "    }\n",
              "\n",
              "    .colab-df-buttons div {\n",
              "      margin-bottom: 4px;\n",
              "    }\n",
              "\n",
              "    [theme=dark] .colab-df-convert {\n",
              "      background-color: #3B4455;\n",
              "      fill: #D2E3FC;\n",
              "    }\n",
              "\n",
              "    [theme=dark] .colab-df-convert:hover {\n",
              "      background-color: #434B5C;\n",
              "      box-shadow: 0px 1px 3px 1px rgba(0, 0, 0, 0.15);\n",
              "      filter: drop-shadow(0px 1px 2px rgba(0, 0, 0, 0.3));\n",
              "      fill: #FFFFFF;\n",
              "    }\n",
              "  </style>\n",
              "\n",
              "    <script>\n",
              "      const buttonEl =\n",
              "        document.querySelector('#df-132c292d-bb4d-465a-9023-9414c4d7f46c button.colab-df-convert');\n",
              "      buttonEl.style.display =\n",
              "        google.colab.kernel.accessAllowed ? 'block' : 'none';\n",
              "\n",
              "      async function convertToInteractive(key) {\n",
              "        const element = document.querySelector('#df-132c292d-bb4d-465a-9023-9414c4d7f46c');\n",
              "        const dataTable =\n",
              "          await google.colab.kernel.invokeFunction('convertToInteractive',\n",
              "                                                    [key], {});\n",
              "        if (!dataTable) return;\n",
              "\n",
              "        const docLinkHtml = 'Like what you see? Visit the ' +\n",
              "          '<a target=\"_blank\" href=https://colab.research.google.com/notebooks/data_table.ipynb>data table notebook</a>'\n",
              "          + ' to learn more about interactive tables.';\n",
              "        element.innerHTML = '';\n",
              "        dataTable['output_type'] = 'display_data';\n",
              "        await google.colab.output.renderOutput(dataTable, element);\n",
              "        const docLink = document.createElement('div');\n",
              "        docLink.innerHTML = docLinkHtml;\n",
              "        element.appendChild(docLink);\n",
              "      }\n",
              "    </script>\n",
              "  </div>\n",
              "\n",
              "\n",
              "<div id=\"df-1df174d0-cae1-4269-a3c9-86e24d87c9a8\">\n",
              "  <button class=\"colab-df-quickchart\" onclick=\"quickchart('df-1df174d0-cae1-4269-a3c9-86e24d87c9a8')\"\n",
              "            title=\"Suggest charts\"\n",
              "            style=\"display:none;\">\n",
              "\n",
              "<svg xmlns=\"http://www.w3.org/2000/svg\" height=\"24px\"viewBox=\"0 0 24 24\"\n",
              "     width=\"24px\">\n",
              "    <g>\n",
              "        <path d=\"M19 3H5c-1.1 0-2 .9-2 2v14c0 1.1.9 2 2 2h14c1.1 0 2-.9 2-2V5c0-1.1-.9-2-2-2zM9 17H7v-7h2v7zm4 0h-2V7h2v10zm4 0h-2v-4h2v4z\"/>\n",
              "    </g>\n",
              "</svg>\n",
              "  </button>\n",
              "\n",
              "<style>\n",
              "  .colab-df-quickchart {\n",
              "      --bg-color: #E8F0FE;\n",
              "      --fill-color: #1967D2;\n",
              "      --hover-bg-color: #E2EBFA;\n",
              "      --hover-fill-color: #174EA6;\n",
              "      --disabled-fill-color: #AAA;\n",
              "      --disabled-bg-color: #DDD;\n",
              "  }\n",
              "\n",
              "  [theme=dark] .colab-df-quickchart {\n",
              "      --bg-color: #3B4455;\n",
              "      --fill-color: #D2E3FC;\n",
              "      --hover-bg-color: #434B5C;\n",
              "      --hover-fill-color: #FFFFFF;\n",
              "      --disabled-bg-color: #3B4455;\n",
              "      --disabled-fill-color: #666;\n",
              "  }\n",
              "\n",
              "  .colab-df-quickchart {\n",
              "    background-color: var(--bg-color);\n",
              "    border: none;\n",
              "    border-radius: 50%;\n",
              "    cursor: pointer;\n",
              "    display: none;\n",
              "    fill: var(--fill-color);\n",
              "    height: 32px;\n",
              "    padding: 0;\n",
              "    width: 32px;\n",
              "  }\n",
              "\n",
              "  .colab-df-quickchart:hover {\n",
              "    background-color: var(--hover-bg-color);\n",
              "    box-shadow: 0 1px 2px rgba(60, 64, 67, 0.3), 0 1px 3px 1px rgba(60, 64, 67, 0.15);\n",
              "    fill: var(--button-hover-fill-color);\n",
              "  }\n",
              "\n",
              "  .colab-df-quickchart-complete:disabled,\n",
              "  .colab-df-quickchart-complete:disabled:hover {\n",
              "    background-color: var(--disabled-bg-color);\n",
              "    fill: var(--disabled-fill-color);\n",
              "    box-shadow: none;\n",
              "  }\n",
              "\n",
              "  .colab-df-spinner {\n",
              "    border: 2px solid var(--fill-color);\n",
              "    border-color: transparent;\n",
              "    border-bottom-color: var(--fill-color);\n",
              "    animation:\n",
              "      spin 1s steps(1) infinite;\n",
              "  }\n",
              "\n",
              "  @keyframes spin {\n",
              "    0% {\n",
              "      border-color: transparent;\n",
              "      border-bottom-color: var(--fill-color);\n",
              "      border-left-color: var(--fill-color);\n",
              "    }\n",
              "    20% {\n",
              "      border-color: transparent;\n",
              "      border-left-color: var(--fill-color);\n",
              "      border-top-color: var(--fill-color);\n",
              "    }\n",
              "    30% {\n",
              "      border-color: transparent;\n",
              "      border-left-color: var(--fill-color);\n",
              "      border-top-color: var(--fill-color);\n",
              "      border-right-color: var(--fill-color);\n",
              "    }\n",
              "    40% {\n",
              "      border-color: transparent;\n",
              "      border-right-color: var(--fill-color);\n",
              "      border-top-color: var(--fill-color);\n",
              "    }\n",
              "    60% {\n",
              "      border-color: transparent;\n",
              "      border-right-color: var(--fill-color);\n",
              "    }\n",
              "    80% {\n",
              "      border-color: transparent;\n",
              "      border-right-color: var(--fill-color);\n",
              "      border-bottom-color: var(--fill-color);\n",
              "    }\n",
              "    90% {\n",
              "      border-color: transparent;\n",
              "      border-bottom-color: var(--fill-color);\n",
              "    }\n",
              "  }\n",
              "</style>\n",
              "\n",
              "  <script>\n",
              "    async function quickchart(key) {\n",
              "      const quickchartButtonEl =\n",
              "        document.querySelector('#' + key + ' button');\n",
              "      quickchartButtonEl.disabled = true;  // To prevent multiple clicks.\n",
              "      quickchartButtonEl.classList.add('colab-df-spinner');\n",
              "      try {\n",
              "        const charts = await google.colab.kernel.invokeFunction(\n",
              "            'suggestCharts', [key], {});\n",
              "      } catch (error) {\n",
              "        console.error('Error during call to suggestCharts:', error);\n",
              "      }\n",
              "      quickchartButtonEl.classList.remove('colab-df-spinner');\n",
              "      quickchartButtonEl.classList.add('colab-df-quickchart-complete');\n",
              "    }\n",
              "    (() => {\n",
              "      let quickchartButtonEl =\n",
              "        document.querySelector('#df-1df174d0-cae1-4269-a3c9-86e24d87c9a8 button');\n",
              "      quickchartButtonEl.style.display =\n",
              "        google.colab.kernel.accessAllowed ? 'block' : 'none';\n",
              "    })();\n",
              "  </script>\n",
              "</div>\n",
              "\n",
              "    </div>\n",
              "  </div>\n"
            ],
            "application/vnd.google.colaboratory.intrinsic+json": {
              "type": "dataframe",
              "variable_name": "habitat_df",
              "summary": "{\n  \"name\": \"habitat_df\",\n  \"rows\": 1000,\n  \"fields\": [\n    {\n      \"column\": \"Average Temperature (\\u00b0C)\",\n      \"properties\": {\n        \"dtype\": \"number\",\n        \"std\": 5.206462852255001,\n        \"min\": 6.55817354285778,\n        \"max\": 40.58840564604024,\n        \"num_unique_values\": 1000,\n        \"samples\": [\n          33.651609074285844,\n          22.01503205789534,\n          28.091802831298324\n        ],\n        \"semantic_type\": \"\",\n        \"description\": \"\"\n      }\n    },\n    {\n      \"column\": \"Annual Rainfall (mm)\",\n      \"properties\": {\n        \"dtype\": \"number\",\n        \"std\": 203.7230818587314,\n        \"min\": 232.66889030812612,\n        \"max\": 1675.4765838165292,\n        \"num_unique_values\": 1000,\n        \"samples\": [\n          884.5542548578858,\n          1040.3477309592088,\n          993.0871520312394\n        ],\n        \"semantic_type\": \"\",\n        \"description\": \"\"\n      }\n    },\n    {\n      \"column\": \"Vegetation Density (% coverage)\",\n      \"properties\": {\n        \"dtype\": \"number\",\n        \"std\": 20.66852549697901,\n        \"min\": 30.01104212046397,\n        \"max\": 99.95345859817807,\n        \"num_unique_values\": 1000,\n        \"samples\": [\n          83.06904445477915,\n          91.27303578465356,\n          31.67729695869889\n        ],\n        \"semantic_type\": \"\",\n        \"description\": \"\"\n      }\n    },\n    {\n      \"column\": \"Predator Presence (0 or 1)\",\n      \"properties\": {\n        \"dtype\": \"number\",\n        \"std\": 0,\n        \"min\": 0,\n        \"max\": 1,\n        \"num_unique_values\": 2,\n        \"samples\": [\n          0,\n          1\n        ],\n        \"semantic_type\": \"\",\n        \"description\": \"\"\n      }\n    },\n    {\n      \"column\": \"Human Disturbance Index\",\n      \"properties\": {\n        \"dtype\": \"number\",\n        \"std\": 0.29497083798951085,\n        \"min\": 0.0014182201339154,\n        \"max\": 0.9983031557339584,\n        \"num_unique_values\": 1000,\n        \"samples\": [\n          0.4082667739264258,\n          0.6324008951351965\n        ],\n        \"semantic_type\": \"\",\n        \"description\": \"\"\n      }\n    },\n    {\n      \"column\": \"Altitude (meters)\",\n      \"properties\": {\n        \"dtype\": \"number\",\n        \"std\": 200.90656385560354,\n        \"min\": -164.22291111782772,\n        \"max\": 1175.5536482578725,\n        \"num_unique_values\": 1000,\n        \"samples\": [\n          747.5476211498451,\n          285.9063513959858\n        ],\n        \"semantic_type\": \"\",\n        \"description\": \"\"\n      }\n    },\n    {\n      \"column\": \"Water Source Availability (0 or 1)\",\n      \"properties\": {\n        \"dtype\": \"number\",\n        \"std\": 0,\n        \"min\": 0,\n        \"max\": 1,\n        \"num_unique_values\": 2,\n        \"samples\": [\n          0,\n          1\n        ],\n        \"semantic_type\": \"\",\n        \"description\": \"\"\n      }\n    },\n    {\n      \"column\": \"Habitat Suitability\",\n      \"properties\": {\n        \"dtype\": \"number\",\n        \"std\": 0,\n        \"min\": 0,\n        \"max\": 1,\n        \"num_unique_values\": 2,\n        \"samples\": [\n          0,\n          1\n        ],\n        \"semantic_type\": \"\",\n        \"description\": \"\"\n      }\n    }\n  ]\n}"
            }
          },
          "metadata": {},
          "execution_count": 10
        }
      ]
    },
    {
      "cell_type": "markdown",
      "metadata": {
        "id": "rjTkesud_IP8"
      },
      "source": [
        "## Exercises\n",
        "\n",
        "Using the dataset, we want to build a classification model that will be able to classify habitats as suitable (1) or unsuitable (0).\n",
        "\n",
        "In the code below, we prepare the dataset and train a logistic regression model following these preliminary steps."
      ]
    },
    {
      "cell_type": "markdown",
      "source": [
        "<details><summary>Click here for further explanation of the code</summary>\n",
        "\n",
        "The objective of the task. It means that you are trying to build a model that, given some features of a habitat, can predict if it is suitable (represented by 1) or unsuitable (represented by 0) for a certain species.\n",
        "\n",
        "The following steps describe how the dataset is used to achieve this objective:\n",
        "\n",
        "- `Prepare the data:` The features (X) and target variable (y, representing habitat suitability) are extracted from the dataset.\n",
        "- `Split the dataset`: The data is split into training and testing sets to evaluate the model's performance on unseen data.\n",
        "- `Feature scaling:` Features are scaled to ensure that they have a similar range, which can improve the model's performance.\n",
        "- `Train a logistic regression model:` A logistic regression model is trained on the scaled training data to learn the relationship between the features and habitat suitability.\n",
        "\n",
        "</details>\n",
        "\n"
      ],
      "metadata": {
        "id": "YemsvUjnEoCZ"
      }
    },
    {
      "cell_type": "code",
      "execution_count": null,
      "metadata": {
        "colab": {
          "base_uri": "https://localhost:8080/",
          "height": 75
        },
        "id": "XtS5AhEa_IP8",
        "outputId": "6ba135c7-435b-4f18-b589-176f5bb126ba"
      },
      "outputs": [
        {
          "output_type": "execute_result",
          "data": {
            "text/plain": [
              "LogisticRegression()"
            ],
            "text/html": [
              "<style>#sk-container-id-5 {color: black;background-color: white;}#sk-container-id-5 pre{padding: 0;}#sk-container-id-5 div.sk-toggleable {background-color: white;}#sk-container-id-5 label.sk-toggleable__label {cursor: pointer;display: block;width: 100%;margin-bottom: 0;padding: 0.3em;box-sizing: border-box;text-align: center;}#sk-container-id-5 label.sk-toggleable__label-arrow:before {content: \"▸\";float: left;margin-right: 0.25em;color: #696969;}#sk-container-id-5 label.sk-toggleable__label-arrow:hover:before {color: black;}#sk-container-id-5 div.sk-estimator:hover label.sk-toggleable__label-arrow:before {color: black;}#sk-container-id-5 div.sk-toggleable__content {max-height: 0;max-width: 0;overflow: hidden;text-align: left;background-color: #f0f8ff;}#sk-container-id-5 div.sk-toggleable__content pre {margin: 0.2em;color: black;border-radius: 0.25em;background-color: #f0f8ff;}#sk-container-id-5 input.sk-toggleable__control:checked~div.sk-toggleable__content {max-height: 200px;max-width: 100%;overflow: auto;}#sk-container-id-5 input.sk-toggleable__control:checked~label.sk-toggleable__label-arrow:before {content: \"▾\";}#sk-container-id-5 div.sk-estimator input.sk-toggleable__control:checked~label.sk-toggleable__label {background-color: #d4ebff;}#sk-container-id-5 div.sk-label input.sk-toggleable__control:checked~label.sk-toggleable__label {background-color: #d4ebff;}#sk-container-id-5 input.sk-hidden--visually {border: 0;clip: rect(1px 1px 1px 1px);clip: rect(1px, 1px, 1px, 1px);height: 1px;margin: -1px;overflow: hidden;padding: 0;position: absolute;width: 1px;}#sk-container-id-5 div.sk-estimator {font-family: monospace;background-color: #f0f8ff;border: 1px dotted black;border-radius: 0.25em;box-sizing: border-box;margin-bottom: 0.5em;}#sk-container-id-5 div.sk-estimator:hover {background-color: #d4ebff;}#sk-container-id-5 div.sk-parallel-item::after {content: \"\";width: 100%;border-bottom: 1px solid gray;flex-grow: 1;}#sk-container-id-5 div.sk-label:hover label.sk-toggleable__label {background-color: #d4ebff;}#sk-container-id-5 div.sk-serial::before {content: \"\";position: absolute;border-left: 1px solid gray;box-sizing: border-box;top: 0;bottom: 0;left: 50%;z-index: 0;}#sk-container-id-5 div.sk-serial {display: flex;flex-direction: column;align-items: center;background-color: white;padding-right: 0.2em;padding-left: 0.2em;position: relative;}#sk-container-id-5 div.sk-item {position: relative;z-index: 1;}#sk-container-id-5 div.sk-parallel {display: flex;align-items: stretch;justify-content: center;background-color: white;position: relative;}#sk-container-id-5 div.sk-item::before, #sk-container-id-5 div.sk-parallel-item::before {content: \"\";position: absolute;border-left: 1px solid gray;box-sizing: border-box;top: 0;bottom: 0;left: 50%;z-index: -1;}#sk-container-id-5 div.sk-parallel-item {display: flex;flex-direction: column;z-index: 1;position: relative;background-color: white;}#sk-container-id-5 div.sk-parallel-item:first-child::after {align-self: flex-end;width: 50%;}#sk-container-id-5 div.sk-parallel-item:last-child::after {align-self: flex-start;width: 50%;}#sk-container-id-5 div.sk-parallel-item:only-child::after {width: 0;}#sk-container-id-5 div.sk-dashed-wrapped {border: 1px dashed gray;margin: 0 0.4em 0.5em 0.4em;box-sizing: border-box;padding-bottom: 0.4em;background-color: white;}#sk-container-id-5 div.sk-label label {font-family: monospace;font-weight: bold;display: inline-block;line-height: 1.2em;}#sk-container-id-5 div.sk-label-container {text-align: center;}#sk-container-id-5 div.sk-container {/* jupyter's `normalize.less` sets `[hidden] { display: none; }` but bootstrap.min.css set `[hidden] { display: none !important; }` so we also need the `!important` here to be able to override the default hidden behavior on the sphinx rendered scikit-learn.org. See: https://github.com/scikit-learn/scikit-learn/issues/21755 */display: inline-block !important;position: relative;}#sk-container-id-5 div.sk-text-repr-fallback {display: none;}</style><div id=\"sk-container-id-5\" class=\"sk-top-container\"><div class=\"sk-text-repr-fallback\"><pre>LogisticRegression()</pre><b>In a Jupyter environment, please rerun this cell to show the HTML representation or trust the notebook. <br />On GitHub, the HTML representation is unable to render, please try loading this page with nbviewer.org.</b></div><div class=\"sk-container\" hidden><div class=\"sk-item\"><div class=\"sk-estimator sk-toggleable\"><input class=\"sk-toggleable__control sk-hidden--visually\" id=\"sk-estimator-id-5\" type=\"checkbox\" checked><label for=\"sk-estimator-id-5\" class=\"sk-toggleable__label sk-toggleable__label-arrow\">LogisticRegression</label><div class=\"sk-toggleable__content\"><pre>LogisticRegression()</pre></div></div></div></div></div>"
            ]
          },
          "metadata": {},
          "execution_count": 12
        }
      ],
      "source": [
        "# Prepare the data\n",
        "X = habitat_df.drop('Habitat Suitability', axis=1)  # Features\n",
        "y = habitat_df['Habitat Suitability']  # Target variable\n",
        "\n",
        "# Split the dataset into training and testing sets\n",
        "X_train, X_test, y_train, y_test = train_test_split(X, y, test_size=0.2, random_state=42)\n",
        "\n",
        "# Feature scaling\n",
        "scaler = StandardScaler()\n",
        "X_train_scaled = scaler.fit_transform(X_train)\n",
        "\n",
        "# Train a logistic regression model\n",
        "model = LogisticRegression()\n",
        "model.fit(X_train_scaled, y_train)"
      ]
    },
    {
      "cell_type": "markdown",
      "metadata": {
        "id": "UXljCzAo_IP9"
      },
      "source": [
        "### Exercise 1\n",
        "\n",
        "**a)**\n",
        "\n",
        "Now that we have trained a logistic regression model on the `habitat_suitability` dataset, let's try and get information on how our model performs on new unseen data.\n",
        "\n",
        "Hence:\n",
        "\n",
        "1. Use the trained logistic regression model to make predictions on the test set.\n",
        "2. Import and use `confusion_matrix` from `sklearn.metrics` to generate the confusion matrix for your predictions.\n",
        "3. Display the confusion matrix.\n",
        "\n",
        "**Note:** Remember to scale the test set features to ensure consistency."
      ]
    },
    {
      "cell_type": "code",
      "execution_count": null,
      "metadata": {
        "colab": {
          "base_uri": "https://localhost:8080/"
        },
        "id": "L3Dmvhpi_IP9",
        "outputId": "e1f6068a-8173-47d3-873b-e1213f9743c8"
      },
      "outputs": [
        {
          "output_type": "stream",
          "name": "stdout",
          "text": [
            "Confusion Matrix:\n",
            " [[143   9]\n",
            " [ 16  32]]\n"
          ]
        }
      ],
      "source": [
        "# Your solution here...\n",
        "# Import the confusion_matrix function from sklearn's metrics module\n",
        "from sklearn.metrics import confusion_matrix\n",
        "\n",
        "# Scale the test dataset features using the same scaler that was applied to the training dataset\n",
        "X_test_scaled = scaler.transform(X_test)\n",
        "\n",
        "# Use the trained logistic regression model to predict the outcomes for the scaled test dataset.\n",
        "y_pred = model.predict(X_test_scaled)\n",
        "\n",
        "# Generate the confusion matrix\n",
        "conf_matrix = confusion_matrix(y_test, y_pred)\n",
        "print(\"Confusion Matrix:\\n\", conf_matrix)"
      ]
    },
    {
      "cell_type": "markdown",
      "metadata": {
        "id": "nQ5snyGI_IP9"
      },
      "source": [
        "**b)**\n",
        "\n",
        "The confusion matrix is not easy to read. Let's improve on this by converting it into a DataFrame with the following row and column labels `0: Unsuitable` and `1: Suitable`."
      ]
    },
    {
      "cell_type": "code",
      "execution_count": 2,
      "metadata": {
        "colab": {
          "base_uri": "https://localhost:8080/",
          "height": 228
        },
        "id": "jQiSxJKS_IP-",
        "outputId": "d2d875aa-3709-4760-b1d2-868b579c06c9"
      },
      "outputs": [
        {
          "output_type": "error",
          "ename": "NameError",
          "evalue": "name 'pd' is not defined",
          "traceback": [
            "\u001b[0;31m---------------------------------------------------------------------------\u001b[0m",
            "\u001b[0;31mNameError\u001b[0m                                 Traceback (most recent call last)",
            "\u001b[0;32m<ipython-input-2-b45a22e969e9>\u001b[0m in \u001b[0;36m<cell line: 6>\u001b[0;34m()\u001b[0m\n\u001b[1;32m      4\u001b[0m \u001b[0;34m\u001b[0m\u001b[0m\n\u001b[1;32m      5\u001b[0m \u001b[0;31m# Create a Pandas DataFrame from the confusion matrix data and the labels defined above\u001b[0m\u001b[0;34m\u001b[0m\u001b[0;34m\u001b[0m\u001b[0m\n\u001b[0;32m----> 6\u001b[0;31m \u001b[0mmatrix_df\u001b[0m \u001b[0;34m=\u001b[0m \u001b[0mpd\u001b[0m\u001b[0;34m.\u001b[0m\u001b[0mDataFrame\u001b[0m\u001b[0;34m(\u001b[0m\u001b[0mdata\u001b[0m\u001b[0;34m=\u001b[0m\u001b[0mconf_matrix\u001b[0m\u001b[0;34m,\u001b[0m \u001b[0mindex\u001b[0m\u001b[0;34m=\u001b[0m\u001b[0mlabels\u001b[0m\u001b[0;34m,\u001b[0m \u001b[0mcolumns\u001b[0m\u001b[0;34m=\u001b[0m\u001b[0mlabels\u001b[0m\u001b[0;34m)\u001b[0m\u001b[0;34m\u001b[0m\u001b[0;34m\u001b[0m\u001b[0m\n\u001b[0m\u001b[1;32m      7\u001b[0m \u001b[0;34m\u001b[0m\u001b[0m\n\u001b[1;32m      8\u001b[0m \u001b[0;31m# Display the resulting DataFrame\u001b[0m\u001b[0;34m\u001b[0m\u001b[0;34m\u001b[0m\u001b[0m\n",
            "\u001b[0;31mNameError\u001b[0m: name 'pd' is not defined"
          ]
        }
      ],
      "source": [
        "\n",
        "\n",
        "\n",
        "\n",
        "\n",
        "\n",
        "\n",
        "\n",
        "\n",
        "\n",
        "\n",
        "\n",
        "\n",
        "\n",
        "\n",
        "\n",
        "\n",
        "\n",
        "\n",
        "\n",
        "\n",
        "\n",
        "\n",
        "\n",
        "\n",
        "\n",
        "\n",
        "\n",
        "\n",
        "\n",
        "\n",
        "\n",
        "\n",
        "\n",
        "\n",
        "\n",
        "\n",
        "\n",
        "\n",
        "\n",
        "\n",
        "\n",
        "\n",
        "# Your solution here...\n",
        "# Define the labels for the confusion matrix\n",
        "labels = ['0: Unsuitable ', '1: Suitable']\n",
        "\n",
        "# Create a Pandas DataFrame from the confusion matrix data and the labels defined above\n",
        "matrix_df = pd.DataFrame(data=conf_matrix, index=labels, columns=labels)\n",
        "\n",
        "# Display the resulting DataFrame\n",
        "print(matrix_df)\n"
      ]
    },
    {
      "cell_type": "markdown",
      "metadata": {
        "id": "HuiR0g0Q_IP-"
      },
      "source": [
        "### Exercise 2\n",
        "\n",
        "Now that we can easily interpret our confusion matrix, we want to compare the distribution of the ground truth classifications and the classifications made by the model.\n",
        "\n",
        "That is, we want to find out how many observations were classified as suitable (1) and unsuitable (0) habitats by the model and compare this to the counts originally in the test set.\n"
      ]
    },
    {
      "cell_type": "code",
      "execution_count": null,
      "metadata": {
        "id": "CeRaiGqR_IP-"
      },
      "outputs": [],
      "source": [
        "# Your solution here..."
      ]
    },
    {
      "cell_type": "markdown",
      "metadata": {
        "id": "HVgldVn5_IP-"
      },
      "source": [
        "### Exercise 3\n",
        "\n",
        "From the multidimensional array `conf_matrix`, access the true positive, true negative, false positive, and false negative values and store them in the following variables `TP`, `TN`, `FP`, and `FN`, respectively.\n",
        "\n",
        "Print each value together with its label.\n",
        "\n",
        "**Hint:** Apply your knowledge of where each of these values is located in the confusion matrix."
      ]
    },
    {
      "cell_type": "code",
      "execution_count": null,
      "metadata": {
        "id": "16XS3oKX_IP-"
      },
      "outputs": [],
      "source": [
        "# Your solution here..."
      ]
    },
    {
      "cell_type": "markdown",
      "metadata": {
        "id": "9YCH1r65_IP_"
      },
      "source": [
        "### Exercise 4\n",
        "\n",
        "Let's now find out the overall accuracy of our model.\n",
        "\n",
        "**a)** Using the values from **Exercise 3**, calculate the overall accuracy using the formula:\n",
        "\n",
        " $$Accuracy =  \\frac{Correct\\space predictions}{Total\\space predictions}$$\n",
        "\n",
        "**b)** Comment on the suitability of using accuracy as the sole metric for evaluating the performance of our model."
      ]
    },
    {
      "cell_type": "code",
      "execution_count": null,
      "metadata": {
        "id": "IObUmdXh_IP_"
      },
      "outputs": [],
      "source": [
        "# Your solution here..."
      ]
    },
    {
      "cell_type": "markdown",
      "metadata": {
        "id": "I5o6HGES_IP_"
      },
      "source": [
        "## Solutions"
      ]
    },
    {
      "cell_type": "markdown",
      "metadata": {
        "id": "01tax4wk_IP_"
      },
      "source": [
        "### Exercise 1\n",
        "\n",
        "**a)**"
      ]
    },
    {
      "cell_type": "code",
      "execution_count": null,
      "metadata": {
        "id": "MpvKOTt8_IP_"
      },
      "outputs": [],
      "source": [
        "# Import the confusion_matrix function from sklearn's metrics module\n",
        "from sklearn.metrics import confusion_matrix\n",
        "\n",
        "# Scale the test dataset features using the same scaler that was applied to the training dataset\n",
        "X_test_scaled = scaler.transform(X_test)\n",
        "\n",
        "# Use the trained logistic regression model to predict the outcomes for the scaled test dataset.\n",
        "y_pred = model.predict(X_test_scaled)\n",
        "\n",
        "# Generate the confusion matrix\n",
        "conf_matrix = confusion_matrix(y_test, y_pred)\n",
        "print(\"Confusion Matrix:\\n\", conf_matrix)"
      ]
    },
    {
      "cell_type": "markdown",
      "metadata": {
        "id": "33tvcY79_IP_"
      },
      "source": [
        "We use the `confusion_matrix` function from `sklearn` to compare\n",
        "the model's predicted values against the actual values from the test dataset.\n",
        "\n",
        "It displays the correct and incorrect predictions across the different classes."
      ]
    },
    {
      "cell_type": "markdown",
      "metadata": {
        "id": "bmQOR7XU_IP_"
      },
      "source": [
        "**b)**"
      ]
    },
    {
      "cell_type": "code",
      "execution_count": null,
      "metadata": {
        "id": "ZkdJ9_WV_IP_"
      },
      "outputs": [],
      "source": [
        "# Define the labels for the confusion matrix\n",
        "labels = ['0: Unsuitable ', '1: Suitable']\n",
        "\n",
        "# Create a Pandas DataFrame from the confusion matrix data and the labels defined above\n",
        "matrix_df = pd.DataFrame(data=conf_matrix, index=labels, columns=labels)\n",
        "\n",
        "# Display the resulting DataFrame\n",
        "matrix_df"
      ]
    },
    {
      "cell_type": "markdown",
      "metadata": {
        "id": "zlwmrPrU_IQA"
      },
      "source": [
        "We create a Pandas DataFrame to neatly display our previously generated confusion matrix by labelling the rows and columns according to the outcomes they represent."
      ]
    },
    {
      "cell_type": "markdown",
      "metadata": {
        "id": "f8YQwrhb_IQA"
      },
      "source": [
        "### Exercise 2"
      ]
    },
    {
      "cell_type": "code",
      "execution_count": null,
      "metadata": {
        "id": "v_KEBj3C_IQA"
      },
      "outputs": [],
      "source": [
        "# Sum of each row: Ground truth totals for each class\n",
        "ground_truth_totals = matrix_df.sum(axis=1)\n",
        "print(\"Ground Truth Totals for Each Class:\")\n",
        "print(ground_truth_totals)\n",
        "\n",
        "# Sum of each column: Totals for the predictions for each class\n",
        "prediction_totals = matrix_df.sum(axis=0)\n",
        "print(\"\\nPrediction Totals for Each Class:\")\n",
        "print(prediction_totals)"
      ]
    },
    {
      "cell_type": "markdown",
      "metadata": {
        "id": "hTshkbTz_IQA"
      },
      "source": [
        "We calculate the ground truth totals for each class by summing up the rows of the confusion matrix DataFrame.\n",
        "\n",
        "On the other hand, we calculate the totals for the predictions for each class by summing up the columns of the confusion matrix DataFrame.\n",
        "\n",
        "Analysing the ground truth totals can help us to understand the class balance or imbalance inherent in the dataset, while examining the prediction totals can reveal if the model has a bias towards predicting one class more than another."
      ]
    },
    {
      "cell_type": "markdown",
      "metadata": {
        "id": "YQzWHkiJ_IQA"
      },
      "source": [
        "### Exercise 3"
      ]
    },
    {
      "cell_type": "code",
      "execution_count": null,
      "metadata": {
        "id": "EWOF0Sae_IQA"
      },
      "outputs": [],
      "source": [
        "# Extracting True Positives (TP) from the confusion matrix, located at index [1, 1]\n",
        "TP = conf_matrix[1, 1]\n",
        "\n",
        "# Extracting True Negatives (TN) from the confusion matrix, located at index [0, 0]\n",
        "TN = conf_matrix[0, 0]\n",
        "\n",
        "# Extracting False Positives (FP) from the confusion matrix, located at index [0, 1]\n",
        "FP = conf_matrix[0, 1]\n",
        "\n",
        "# Extracting False Negatives (FN) from the confusion matrix, located at index [1, 0]\n",
        "FN = conf_matrix[1, 0]\n",
        "\n",
        "print(\"True positive:\", TP)\n",
        "print(\"True negative:\", TN)\n",
        "print(\"False positive:\", FP)\n",
        "print(\"False negative\", FN)"
      ]
    },
    {
      "cell_type": "markdown",
      "metadata": {
        "id": "x7G5Qo07_IQA"
      },
      "source": [
        "We extract and calculate each of the confusion matrix components which gives us insights into the types of errors the model is making, as well as its successes, which is crucial for understanding how the model is performing."
      ]
    },
    {
      "cell_type": "markdown",
      "metadata": {
        "id": "IPaeb6KW_IQB"
      },
      "source": [
        "### Exercise 4\n",
        "\n",
        "**a)**"
      ]
    },
    {
      "cell_type": "code",
      "execution_count": null,
      "metadata": {
        "id": "__l8ZLkf_IQB"
      },
      "outputs": [],
      "source": [
        "accuracy = (TP + TN) / (TP + TN + FP + FN)\n",
        "print(\"Overall Accuracy:\", accuracy)"
      ]
    },
    {
      "cell_type": "markdown",
      "metadata": {
        "id": "gQFrPxrv_IQB"
      },
      "source": [
        "Based on the given formula, the correct predictions, which are represented by the `TP` and `TN`, are divided by the total predictions, which are all the values: `TP`, `TN`, `FP`, and `FN`."
      ]
    },
    {
      "cell_type": "markdown",
      "metadata": {
        "id": "rfhCZYbN_IQB"
      },
      "source": [
        "**b)**\n",
        "\n",
        "From the output showing ground truth totals for each class, we see that the dataset contains significantly more instances labelled as `Unsuitable` (152) compared to `Suitable` (48), highlighting a class imbalance.\n",
        "\n",
        "The high accuracy of `87.5%` in this context could therefore be partly due to the model's tendency to predict the majority class, showing that we cannot rely on accuracy as the sole metric for evaluating our model's performance.\n",
        "\n",
        "To get a complete picture of the model's performance, you may want to also try other evaluation approaches incorporating precision, recall, F1 score, and AUC – ROC."
      ]
    },
    {
      "cell_type": "markdown",
      "metadata": {
        "id": "L8jx8-DC_IQB"
      },
      "source": [
        "<div align=\"center\" style=\" font-size: 80%; text-align: center; margin: 0 auto\">\n",
        "<img src=\"https://github.com/sheshbazzarr/Nlp-and-classification/blob/acf41d8a2ade91ec1d7ebb115d20569d60d476c4/sheshbazzar-python-notebook-banner.png?raw=true\"  style=\"width:200px\";/>\n",
        "</div>"
      ]
    }
  ],
  "metadata": {
    "colab": {
      "provenance": [],
      "toc_visible": true
    },
    "interpreter": {
      "hash": "6b5ebbc2c6bde2831bc6c0426f75aca8137ccfc69d329557556ed73faee126ae"
    },
    "kernelspec": {
      "display_name": "Python 3 (ipykernel)",
      "language": "python",
      "name": "python3"
    },
    "language_info": {
      "codemirror_mode": {
        "name": "ipython",
        "version": 3
      },
      "file_extension": ".py",
      "mimetype": "text/x-python",
      "name": "python",
      "nbconvert_exporter": "python",
      "pygments_lexer": "ipython3",
      "version": "3.11.4"
    }
  },
  "nbformat": 4,
  "nbformat_minor": 0
}